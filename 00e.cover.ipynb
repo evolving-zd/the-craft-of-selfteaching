{
 "cells": [
  {
   "cell_type": "markdown",
   "metadata": {},
   "source": [
    "<h1 style='text-align:center'>The Craft of Self-Teaching</h1>"
   ]
  },
  {
   "cell_type": "markdown",
   "metadata": {},
   "source": [
    "<p style='text-align:center'>One has no future if one couldn't teach themself.</p>\n",
    "\n",
    "<p style='text-align:center'>Xiaolai Li 2019</p>\n",
    "\n",
    "![](images/learning-curve-spiral.png)"
   ]
  },
  {
   "cell_type": "markdown",
   "metadata": {},
   "source": [
    "The content of this book is nothing but just:\n",
    "\n",
    "```python\n",
    "def teach_yourself(anything):\n",
    "    while not create(something):\n",
    "        learn()\n",
    "        practice()\n",
    "    return teach_yourself(another)\n",
    "\n",
    "teach_yourself(coding)\n",
    "```"
   ]
  },
  {
   "cell_type": "markdown",
   "metadata": {},
   "source": [
    "Special thanks to the incrediable helps from **Ju Huo**（[@virushuo](https://github.com/virushuo)）and Qiangning Hong（[@hongqn](https://github.com/hongqn)), who were my mentors and friends, when I was writing this book.  "
   ]
  },
  {
   "cell_type": "markdown",
   "metadata": {},
   "source": [
    "> * Cover Picture from:\n",
    "> * https://glumpy.github.io/_static/screenshots/spiral.png"
   ]
  }
 ],
 "metadata": {
  "kernelspec": {
   "display_name": "Python 3",
   "language": "python",
   "name": "python3"
  },
  "language_info": {
   "codemirror_mode": {
    "name": "ipython",
    "version": 3
   },
   "file_extension": ".py",
   "mimetype": "text/x-python",
   "name": "python",
   "nbconvert_exporter": "python",
   "pygments_lexer": "ipython3",
   "version": "3.7.1"
  }
 },
 "nbformat": 4,
 "nbformat_minor": 2
}
